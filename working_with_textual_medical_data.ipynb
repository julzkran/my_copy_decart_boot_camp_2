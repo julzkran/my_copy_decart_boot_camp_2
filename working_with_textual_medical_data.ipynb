{
 "cells": [
  {
   "cell_type": "markdown",
   "metadata": {},
   "source": [
    "<html>\n",
    "<table width=\"100%\" cellspacing=\"2\" cellpadding=\"2\" border=\"1\">\n",
    "<tbody>\n",
    "<tr>\n",
    "<td valign=\"center\" align=\"center\" width=\"25%\"><img src=\"media/decartes.jpg\"\n",
    "alt=\"DeCART Icon\" width=\"128\" height=\"171\"><br>\n",
    "</td>\n",
    "<td valign=\"center\" align=\"center\" width=\"75%\">\n",
    "<h1 align=\"center\"><font size=\"+1\">DeCART Summer School<br>\n",
    "for<br>\n",
    "Biomedical Data Science</font></h1></td>\n",
    "<td valign=\"center\" align=\"center\" width=\"25%\"><img\n",
    "src=\"media/U_Health_stacked_png_red.png\" alt=\"Utah Health\n",
    "Logo\" width=\"128\" height=\"134\"><br>\n",
    "</td>\n",
    "</tr>\n",
    "</tbody>\n",
    "</table>\n",
    "<br>\n",
    "</html>\n",
    "\n",
    "\n",
    "# Working with Textual Data\n",
    "#### &copy; Brian E. Chapman, Ph.D.\n",
    "\n",
    "\n",
    "### To get the latest version of this lesson, execute the cell below"
   ]
  },
  {
   "cell_type": "code",
   "execution_count": 1,
   "metadata": {},
   "outputs": [],
   "source": [
    "%matplotlib inline"
   ]
  },
  {
   "cell_type": "code",
   "execution_count": 2,
   "metadata": {},
   "outputs": [],
   "source": [
    "import pymysql\n",
    "import pandas as pd\n",
    "import getpass\n",
    "from textblob import TextBlob"
   ]
  },
  {
   "cell_type": "code",
   "execution_count": 3,
   "metadata": {},
   "outputs": [
    {
     "name": "stdout",
     "output_type": "stream",
     "text": [
      "Enter MySQL passwd for jovyan········\n"
     ]
    }
   ],
   "source": [
    "conn = pymysql.connect(host=\"mysql\",\n",
    "                       port=3306,user=\"jovyan\",\n",
    "                       passwd=getpass.getpass(\"Enter MySQL passwd for jovyan\"),db='mimic2')\n",
    "cursor = conn.cursor()"
   ]
  },
  {
   "cell_type": "markdown",
   "metadata": {},
   "source": [
    "### Use Pandas and SQL to create a dataframe with the following:\n",
    "* subject_id\n",
    "* hospital admission id\n",
    "* text of the radiology report\n",
    "* Limit the number of reports to 10000"
   ]
  },
  {
   "cell_type": "code",
   "execution_count": 6,
   "metadata": {},
   "outputs": [
    {
     "data": {
      "text/html": [
       "<div>\n",
       "<style scoped>\n",
       "    .dataframe tbody tr th:only-of-type {\n",
       "        vertical-align: middle;\n",
       "    }\n",
       "\n",
       "    .dataframe tbody tr th {\n",
       "        vertical-align: top;\n",
       "    }\n",
       "\n",
       "    .dataframe thead th {\n",
       "        text-align: right;\n",
       "    }\n",
       "</style>\n",
       "<table border=\"1\" class=\"dataframe\">\n",
       "  <thead>\n",
       "    <tr style=\"text-align: right;\">\n",
       "      <th></th>\n",
       "      <th>subject_id</th>\n",
       "      <th>hadm_id</th>\n",
       "      <th>icustay_id</th>\n",
       "      <th>elemid</th>\n",
       "      <th>charttime</th>\n",
       "      <th>realtime</th>\n",
       "      <th>cgid</th>\n",
       "      <th>correction</th>\n",
       "      <th>cuid</th>\n",
       "      <th>category</th>\n",
       "      <th>title</th>\n",
       "      <th>text</th>\n",
       "      <th>exam_name</th>\n",
       "      <th>patient_info</th>\n",
       "    </tr>\n",
       "  </thead>\n",
       "  <tbody>\n",
       "    <tr>\n",
       "      <th>0</th>\n",
       "      <td>56</td>\n",
       "      <td>28766.0</td>\n",
       "      <td>NaN</td>\n",
       "      <td>NaN</td>\n",
       "      <td>2644-01-17 00:00:00</td>\n",
       "      <td>None</td>\n",
       "      <td>NaN</td>\n",
       "      <td>None</td>\n",
       "      <td>NaN</td>\n",
       "      <td>DISCHARGE_SUMMARY</td>\n",
       "      <td>None</td>\n",
       "      <td>\\n \\n \\n \\nAdmission Date:  [**2644-1-17**]   ...</td>\n",
       "      <td>None</td>\n",
       "      <td>None</td>\n",
       "    </tr>\n",
       "    <tr>\n",
       "      <th>1</th>\n",
       "      <td>56</td>\n",
       "      <td>28766.0</td>\n",
       "      <td>NaN</td>\n",
       "      <td>NaN</td>\n",
       "      <td>2644-01-17 00:00:00</td>\n",
       "      <td>None</td>\n",
       "      <td>NaN</td>\n",
       "      <td>None</td>\n",
       "      <td>NaN</td>\n",
       "      <td>RADIOLOGY_REPORT</td>\n",
       "      <td>None</td>\n",
       "      <td>\\n\\n\\n     DATE: [**2644-1-17**] 10:53 AM\\n   ...</td>\n",
       "      <td>None</td>\n",
       "      <td>None</td>\n",
       "    </tr>\n",
       "    <tr>\n",
       "      <th>2</th>\n",
       "      <td>56</td>\n",
       "      <td>28766.0</td>\n",
       "      <td>NaN</td>\n",
       "      <td>NaN</td>\n",
       "      <td>2644-01-17 00:00:00</td>\n",
       "      <td>None</td>\n",
       "      <td>NaN</td>\n",
       "      <td>None</td>\n",
       "      <td>NaN</td>\n",
       "      <td>RADIOLOGY_REPORT</td>\n",
       "      <td>None</td>\n",
       "      <td>\\n\\n\\n     DATE: [**2644-1-17**] 10:53 AM\\n   ...</td>\n",
       "      <td>None</td>\n",
       "      <td>None</td>\n",
       "    </tr>\n",
       "    <tr>\n",
       "      <th>3</th>\n",
       "      <td>56</td>\n",
       "      <td>28766.0</td>\n",
       "      <td>NaN</td>\n",
       "      <td>NaN</td>\n",
       "      <td>2644-01-17 00:00:00</td>\n",
       "      <td>None</td>\n",
       "      <td>NaN</td>\n",
       "      <td>None</td>\n",
       "      <td>NaN</td>\n",
       "      <td>RADIOLOGY_REPORT</td>\n",
       "      <td>None</td>\n",
       "      <td>\\n\\n\\n     DATE: [**2644-1-17**] 10:43 AM\\n   ...</td>\n",
       "      <td>None</td>\n",
       "      <td>None</td>\n",
       "    </tr>\n",
       "    <tr>\n",
       "      <th>4</th>\n",
       "      <td>56</td>\n",
       "      <td>28766.0</td>\n",
       "      <td>NaN</td>\n",
       "      <td>NaN</td>\n",
       "      <td>2644-01-17 00:00:00</td>\n",
       "      <td>None</td>\n",
       "      <td>NaN</td>\n",
       "      <td>None</td>\n",
       "      <td>NaN</td>\n",
       "      <td>RADIOLOGY_REPORT</td>\n",
       "      <td>None</td>\n",
       "      <td>\\n\\n\\n     DATE: [**2644-1-17**] 6:37 AM\\n    ...</td>\n",
       "      <td>None</td>\n",
       "      <td>None</td>\n",
       "    </tr>\n",
       "  </tbody>\n",
       "</table>\n",
       "</div>"
      ],
      "text/plain": [
       "   subject_id  hadm_id  icustay_id  elemid            charttime realtime  \\\n",
       "0          56  28766.0         NaN     NaN  2644-01-17 00:00:00     None   \n",
       "1          56  28766.0         NaN     NaN  2644-01-17 00:00:00     None   \n",
       "2          56  28766.0         NaN     NaN  2644-01-17 00:00:00     None   \n",
       "3          56  28766.0         NaN     NaN  2644-01-17 00:00:00     None   \n",
       "4          56  28766.0         NaN     NaN  2644-01-17 00:00:00     None   \n",
       "\n",
       "   cgid correction  cuid           category title  \\\n",
       "0   NaN       None   NaN  DISCHARGE_SUMMARY  None   \n",
       "1   NaN       None   NaN   RADIOLOGY_REPORT  None   \n",
       "2   NaN       None   NaN   RADIOLOGY_REPORT  None   \n",
       "3   NaN       None   NaN   RADIOLOGY_REPORT  None   \n",
       "4   NaN       None   NaN   RADIOLOGY_REPORT  None   \n",
       "\n",
       "                                                text exam_name patient_info  \n",
       "0  \\n \\n \\n \\nAdmission Date:  [**2644-1-17**]   ...      None         None  \n",
       "1  \\n\\n\\n     DATE: [**2644-1-17**] 10:53 AM\\n   ...      None         None  \n",
       "2  \\n\\n\\n     DATE: [**2644-1-17**] 10:53 AM\\n   ...      None         None  \n",
       "3  \\n\\n\\n     DATE: [**2644-1-17**] 10:43 AM\\n   ...      None         None  \n",
       "4  \\n\\n\\n     DATE: [**2644-1-17**] 6:37 AM\\n    ...      None         None  "
      ]
     },
     "execution_count": 6,
     "metadata": {},
     "output_type": "execute_result"
    }
   ],
   "source": [
    "rad_data = pd.read_sql(\"\"\"SELECT * FROM noteevents LIMIT 10000\"\"\",conn)\n",
    "rad_data.head()"
   ]
  },
  {
   "cell_type": "raw",
   "metadata": {},
   "source": []
  },
  {
   "cell_type": "code",
   "execution_count": 7,
   "metadata": {},
   "outputs": [
    {
     "data": {
      "text/html": [
       "<div>\n",
       "<style scoped>\n",
       "    .dataframe tbody tr th:only-of-type {\n",
       "        vertical-align: middle;\n",
       "    }\n",
       "\n",
       "    .dataframe tbody tr th {\n",
       "        vertical-align: top;\n",
       "    }\n",
       "\n",
       "    .dataframe thead th {\n",
       "        text-align: right;\n",
       "    }\n",
       "</style>\n",
       "<table border=\"1\" class=\"dataframe\">\n",
       "  <thead>\n",
       "    <tr style=\"text-align: right;\">\n",
       "      <th></th>\n",
       "      <th>subject_id</th>\n",
       "      <th>hadm_id</th>\n",
       "      <th>text</th>\n",
       "    </tr>\n",
       "  </thead>\n",
       "  <tbody>\n",
       "    <tr>\n",
       "      <th>0</th>\n",
       "      <td>56</td>\n",
       "      <td>28766.0</td>\n",
       "      <td>\\n\\n\\n     DATE: [**2644-1-17**] 10:53 AM\\n   ...</td>\n",
       "    </tr>\n",
       "    <tr>\n",
       "      <th>1</th>\n",
       "      <td>56</td>\n",
       "      <td>28766.0</td>\n",
       "      <td>\\n\\n\\n     DATE: [**2644-1-17**] 10:53 AM\\n   ...</td>\n",
       "    </tr>\n",
       "    <tr>\n",
       "      <th>2</th>\n",
       "      <td>56</td>\n",
       "      <td>28766.0</td>\n",
       "      <td>\\n\\n\\n     DATE: [**2644-1-17**] 10:43 AM\\n   ...</td>\n",
       "    </tr>\n",
       "    <tr>\n",
       "      <th>3</th>\n",
       "      <td>56</td>\n",
       "      <td>28766.0</td>\n",
       "      <td>\\n\\n\\n     DATE: [**2644-1-17**] 6:37 AM\\n    ...</td>\n",
       "    </tr>\n",
       "    <tr>\n",
       "      <th>4</th>\n",
       "      <td>56</td>\n",
       "      <td>28766.0</td>\n",
       "      <td>\\n\\n\\n     DATE: [**2644-1-19**] 12:09 PM\\n   ...</td>\n",
       "    </tr>\n",
       "  </tbody>\n",
       "</table>\n",
       "</div>"
      ],
      "text/plain": [
       "   subject_id  hadm_id                                               text\n",
       "0          56  28766.0  \\n\\n\\n     DATE: [**2644-1-17**] 10:53 AM\\n   ...\n",
       "1          56  28766.0  \\n\\n\\n     DATE: [**2644-1-17**] 10:53 AM\\n   ...\n",
       "2          56  28766.0  \\n\\n\\n     DATE: [**2644-1-17**] 10:43 AM\\n   ...\n",
       "3          56  28766.0  \\n\\n\\n     DATE: [**2644-1-17**] 6:37 AM\\n    ...\n",
       "4          56  28766.0  \\n\\n\\n     DATE: [**2644-1-19**] 12:09 PM\\n   ..."
      ]
     },
     "execution_count": 7,
     "metadata": {},
     "output_type": "execute_result"
    }
   ],
   "source": [
    "rad_data = \\\n",
    "pd.read_sql(\"\"\"SELECT noteevents.subject_id, \n",
    "                      noteevents.hadm_id,\n",
    "                      noteevents.text \n",
    "               FROM noteevents\n",
    "               WHERE noteevents.category = 'RADIOLOGY_REPORT' LIMIT 10000\"\"\",conn)\n",
    "rad_data.head(5)"
   ]
  },
  {
   "cell_type": "code",
   "execution_count": 8,
   "metadata": {},
   "outputs": [
    {
     "data": {
      "text/plain": [
       "(10000, 3)"
      ]
     },
     "execution_count": 8,
     "metadata": {},
     "output_type": "execute_result"
    }
   ],
   "source": [
    "rad_data.shape"
   ]
  },
  {
   "cell_type": "markdown",
   "metadata": {},
   "source": [
    "## Section Splitting\n",
    "\n",
    "<img src=\"http://medicine.utah.edu/dbmi/images/faculty/Chapman,Wendy_240x360.jpg\"\n",
    "alt=\"Wendy Chapman\" width=\"128\">\n",
    "\n",
    "Clinical reports are often divided into sections. Physicians are taught to write their reports in the SOAP format: subjective information, objective information, assessment, and plan, and sections often reflect this process. Information each setion may be formatted differently. For example, subjective information is often narrative, telling a story of the patient's description of their past medical history and their current issues. The objective section may be much more telegraphic with shortened descriptions of measurements like blood pressure and heart rate, such as \"120/80 88\". You may need different NLP techniques to accurately extract information out of different sections. Sentence splitting, for example, may be different in subjective versus objective sections. Radiology reports are not in the SOAP format, but section identification can still be very important, because in these reports the radiologist describes what she sees on the radiographic image then sometimes summarizes her impression of what the observations may represent, such as \"the infiltrate could be consistent with pneumonia.\" For some tasks, you may only be interested in the impression, which has more weight than the reasoning that occurs in the Findings section."
   ]
  },
  {
   "cell_type": "markdown",
   "metadata": {},
   "source": [
    "## Exercise\n",
    "\n",
    "Write a function that returns the impression section of a report. The function will take two arguments:\n",
    "\n",
    "1. The text to search for the impression section is the first positional argument.\n",
    "1. A list of phrases to use to identify the impression section.\n",
    "\n",
    "Not every report will have a section labeled \"IMPRESSION\". You can consider \"INTERPRETATION\" and \"CONCLUSIONS\" as synonyms for \"IMPRESSION\"\n",
    "\n",
    "If you cannot identify the impresison section (or equivalent), return an empty string.\n",
    "\n",
    "#### Hints\n",
    "\n",
    "* Use a for loop  to iterate across\n",
    "* Use the find method of a string to identify where in the string the impression section occurs\n",
    "* Use slicing to grab the impression section\n"
   ]
  },
  {
   "cell_type": "code",
   "execution_count": 12,
   "metadata": {},
   "outputs": [],
   "source": [
    "txt0 = rad_data.loc[0,\"text\"]"
   ]
  },
  {
   "cell_type": "code",
   "execution_count": 13,
   "metadata": {},
   "outputs": [],
   "source": [
    "txt10 = rad_data.loc[10,\"text\"]"
   ]
  },
  {
   "cell_type": "code",
   "execution_count": 16,
   "metadata": {},
   "outputs": [
    {
     "data": {
      "text/plain": [
       "(-1, 1207)"
      ]
     },
     "execution_count": 16,
     "metadata": {},
     "output_type": "execute_result"
    }
   ],
   "source": [
    "txt0.find(\"IMPRESSION\"), txt10.find(\"IMPRESSION\")"
   ]
  },
  {
   "cell_type": "code",
   "execution_count": null,
   "metadata": {},
   "outputs": [],
   "source": []
  },
  {
   "cell_type": "code",
   "execution_count": 18,
   "metadata": {},
   "outputs": [
    {
     "data": {
      "text/plain": [
       "'IMPRESSION:\\n     1. Persistence of interval slight worsening of degree of patchy opacity within\\n     the lingula.  Continued follow up is recommended to exclude pneumonia.\\n     2. Persistent mild CHF.\\n\\n'"
      ]
     },
     "execution_count": 18,
     "metadata": {},
     "output_type": "execute_result"
    }
   ],
   "source": [
    "\n",
    "def find_impression(txt, search_terms=[\"IMPRESSION\",\n",
    "                                      \"INTERPRETATION\",\n",
    "                                       \"CONCLUSIONS\"]):\n",
    "    \n",
    "    for term in search_terms:\n",
    "        ind = txt.find(term)\n",
    "        if ind != -1:\n",
    "            return txt[ind:]\n",
    "            \n",
    "    return txt\n",
    "\n",
    "find_impression(txt10)\n"
   ]
  },
  {
   "cell_type": "markdown",
   "metadata": {},
   "source": [
    "## Exercise \n",
    "\n",
    "Use ``apply()`` to create a new column in the ``rad_data`` named \"IMPRESSIONS\" with the string identified with ``find_impression()``."
   ]
  },
  {
   "cell_type": "code",
   "execution_count": 21,
   "metadata": {},
   "outputs": [
    {
     "data": {
      "text/html": [
       "<div>\n",
       "<style scoped>\n",
       "    .dataframe tbody tr th:only-of-type {\n",
       "        vertical-align: middle;\n",
       "    }\n",
       "\n",
       "    .dataframe tbody tr th {\n",
       "        vertical-align: top;\n",
       "    }\n",
       "\n",
       "    .dataframe thead th {\n",
       "        text-align: right;\n",
       "    }\n",
       "</style>\n",
       "<table border=\"1\" class=\"dataframe\">\n",
       "  <thead>\n",
       "    <tr style=\"text-align: right;\">\n",
       "      <th></th>\n",
       "      <th>subject_id</th>\n",
       "      <th>hadm_id</th>\n",
       "      <th>text</th>\n",
       "      <th>IMPRESSIONS</th>\n",
       "    </tr>\n",
       "  </thead>\n",
       "  <tbody>\n",
       "    <tr>\n",
       "      <th>0</th>\n",
       "      <td>56</td>\n",
       "      <td>28766.0</td>\n",
       "      <td>\\n\\n\\n     DATE: [**2644-1-17**] 10:53 AM\\n   ...</td>\n",
       "      <td>\\n\\n\\n     DATE: [**2644-1-17**] 10:53 AM\\n   ...</td>\n",
       "    </tr>\n",
       "    <tr>\n",
       "      <th>1</th>\n",
       "      <td>56</td>\n",
       "      <td>28766.0</td>\n",
       "      <td>\\n\\n\\n     DATE: [**2644-1-17**] 10:53 AM\\n   ...</td>\n",
       "      <td>\\n\\n\\n     DATE: [**2644-1-17**] 10:53 AM\\n   ...</td>\n",
       "    </tr>\n",
       "    <tr>\n",
       "      <th>2</th>\n",
       "      <td>56</td>\n",
       "      <td>28766.0</td>\n",
       "      <td>\\n\\n\\n     DATE: [**2644-1-17**] 10:43 AM\\n   ...</td>\n",
       "      <td>IMPRESSION:  Stable appearance of right pariet...</td>\n",
       "    </tr>\n",
       "    <tr>\n",
       "      <th>3</th>\n",
       "      <td>56</td>\n",
       "      <td>28766.0</td>\n",
       "      <td>\\n\\n\\n     DATE: [**2644-1-17**] 6:37 AM\\n    ...</td>\n",
       "      <td>IMPRESSION:\\n     \\n     Cardiomegaly and mild...</td>\n",
       "    </tr>\n",
       "    <tr>\n",
       "      <th>4</th>\n",
       "      <td>56</td>\n",
       "      <td>28766.0</td>\n",
       "      <td>\\n\\n\\n     DATE: [**2644-1-19**] 12:09 PM\\n   ...</td>\n",
       "      <td>IMPRESSION:\\n     \\n     Marked improvement in...</td>\n",
       "    </tr>\n",
       "  </tbody>\n",
       "</table>\n",
       "</div>"
      ],
      "text/plain": [
       "   subject_id  hadm_id                                               text  \\\n",
       "0          56  28766.0  \\n\\n\\n     DATE: [**2644-1-17**] 10:53 AM\\n   ...   \n",
       "1          56  28766.0  \\n\\n\\n     DATE: [**2644-1-17**] 10:53 AM\\n   ...   \n",
       "2          56  28766.0  \\n\\n\\n     DATE: [**2644-1-17**] 10:43 AM\\n   ...   \n",
       "3          56  28766.0  \\n\\n\\n     DATE: [**2644-1-17**] 6:37 AM\\n    ...   \n",
       "4          56  28766.0  \\n\\n\\n     DATE: [**2644-1-19**] 12:09 PM\\n   ...   \n",
       "\n",
       "                                         IMPRESSIONS  \n",
       "0  \\n\\n\\n     DATE: [**2644-1-17**] 10:53 AM\\n   ...  \n",
       "1  \\n\\n\\n     DATE: [**2644-1-17**] 10:53 AM\\n   ...  \n",
       "2  IMPRESSION:  Stable appearance of right pariet...  \n",
       "3  IMPRESSION:\\n     \\n     Cardiomegaly and mild...  \n",
       "4  IMPRESSION:\\n     \\n     Marked improvement in...  "
      ]
     },
     "execution_count": 21,
     "metadata": {},
     "output_type": "execute_result"
    }
   ],
   "source": [
    "rad_data[\"IMPRESSIONS\"] = \\\n",
    "    rad_data[\"text\"].apply(find_impression)\n",
    "rad_data.head()"
   ]
  },
  {
   "cell_type": "markdown",
   "metadata": {},
   "source": [
    "## How else might we need to break up a report?\n",
    "\n",
    "* How would I break a report into sentences?\n",
    "* How would I break a report into words?"
   ]
  },
  {
   "cell_type": "markdown",
   "metadata": {},
   "source": [
    "## Group Exercise\n",
    "\n",
    "### Create a single string with all the reports\n",
    "\n",
    "#### Hints, etc.\n",
    "* Use List Comprehension\n",
    "* Use string joins\n",
    "* Iterate over the rows of the data frame\n",
    "* Use TextBlob to get words"
   ]
  }
 ],
 "metadata": {
  "kernelspec": {
   "display_name": "Python 3",
   "language": "python",
   "name": "python3"
  },
  "language_info": {
   "codemirror_mode": {
    "name": "ipython",
    "version": 3
   },
   "file_extension": ".py",
   "mimetype": "text/x-python",
   "name": "python",
   "nbconvert_exporter": "python",
   "pygments_lexer": "ipython3",
   "version": "3.5.5"
  }
 },
 "nbformat": 4,
 "nbformat_minor": 1
}
